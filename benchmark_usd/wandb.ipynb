{
 "cells": [
  {
   "cell_type": "code",
   "execution_count": 3,
   "metadata": {},
   "outputs": [
    {
     "data": {
      "text/html": [
       "Tracking run with wandb version 0.19.5"
      ],
      "text/plain": [
       "<IPython.core.display.HTML object>"
      ]
     },
     "metadata": {},
     "output_type": "display_data"
    },
    {
     "data": {
      "text/html": [
       "Run data is saved locally in <code>/home/projects/dharel/nadavt/repos/transformers/benchmark_usd/wandb/run-20250130_232635-mi4sl47g</code>"
      ],
      "text/plain": [
       "<IPython.core.display.HTML object>"
      ]
     },
     "metadata": {},
     "output_type": "display_data"
    },
    {
     "data": {
      "text/html": [
       "Syncing run <strong><a href='https://wandb.ai/generating-faster/llm-benchmarks/runs/mi4sl47g' target=\"_blank\">model-comparison</a></strong> to <a href='https://wandb.ai/generating-faster/llm-benchmarks' target=\"_blank\">Weights & Biases</a> (<a href='https://wandb.me/developer-guide' target=\"_blank\">docs</a>)<br>"
      ],
      "text/plain": [
       "<IPython.core.display.HTML object>"
      ]
     },
     "metadata": {},
     "output_type": "display_data"
    },
    {
     "data": {
      "text/html": [
       " View project at <a href='https://wandb.ai/generating-faster/llm-benchmarks' target=\"_blank\">https://wandb.ai/generating-faster/llm-benchmarks</a>"
      ],
      "text/plain": [
       "<IPython.core.display.HTML object>"
      ]
     },
     "metadata": {},
     "output_type": "display_data"
    },
    {
     "data": {
      "text/html": [
       " View run at <a href='https://wandb.ai/generating-faster/llm-benchmarks/runs/mi4sl47g' target=\"_blank\">https://wandb.ai/generating-faster/llm-benchmarks/runs/mi4sl47g</a>"
      ],
      "text/plain": [
       "<IPython.core.display.HTML object>"
      ]
     },
     "metadata": {},
     "output_type": "display_data"
    },
    {
     "data": {
      "text/html": [],
      "text/plain": [
       "<IPython.core.display.HTML object>"
      ]
     },
     "metadata": {},
     "output_type": "display_data"
    },
    {
     "data": {
      "text/html": [
       " View run <strong style=\"color:#cdcd00\">model-comparison</strong> at: <a href='https://wandb.ai/generating-faster/llm-benchmarks/runs/mi4sl47g' target=\"_blank\">https://wandb.ai/generating-faster/llm-benchmarks/runs/mi4sl47g</a><br> View project at: <a href='https://wandb.ai/generating-faster/llm-benchmarks' target=\"_blank\">https://wandb.ai/generating-faster/llm-benchmarks</a><br>Synced 5 W&B file(s), 1 media file(s), 2 artifact file(s) and 0 other file(s)"
      ],
      "text/plain": [
       "<IPython.core.display.HTML object>"
      ]
     },
     "metadata": {},
     "output_type": "display_data"
    },
    {
     "data": {
      "text/html": [
       "Find logs at: <code>./wandb/run-20250130_232635-mi4sl47g/logs</code>"
      ],
      "text/plain": [
       "<IPython.core.display.HTML object>"
      ]
     },
     "metadata": {},
     "output_type": "display_data"
    }
   ],
   "source": [
    "import wandb\n",
    "import pandas as pd\n",
    "\n",
    "def setup_wandb():\n",
    "    \"\"\"\n",
    "    Setup Weights & Biases for logging benchmark results.\n",
    "    \"\"\"\n",
    "    wandb.login()\n",
    "    wandb.init(\n",
    "        project=\"llm-benchmarks\",\n",
    "        name=\"model-comparison\"\n",
    "    )\n",
    "\n",
    "\n",
    "setup_wandb()\n",
    "\n",
    "# Create sample data\n",
    "data = [\n",
    "    {\n",
    "        \"Target\": \"meta-llama/Llama-3.1-8B-Instruct\",\n",
    "        \"Dataset\": \"tau/scrolls\",\n",
    "        \"Drafter\": \"N/A (AR)\",\n",
    "        \"Temperature\": 0.0,\n",
    "        \"New Toks\": 504.5,\n",
    "        \"TTFT (ms)\": 500.2,\n",
    "        \"TPOT (ms)\": 107.9,\n",
    "        \"OutToks/Sec\": 9.3,\n",
    "    },\n",
    "    # Add more rows as needed\n",
    "]\n",
    "\n",
    "# Convert to DataFrame\n",
    "df = pd.DataFrame(data)\n",
    "\n",
    "# Log the table to wandb\n",
    "table = wandb.Table(dataframe=df)\n",
    "wandb.log({\"benchmark_results\": table})\n",
    "\n",
    "wandb.finish()"
   ]
  }
 ],
 "metadata": {
  "kernelspec": {
   "display_name": "Python 3",
   "language": "python",
   "name": "python3"
  },
  "language_info": {
   "codemirror_mode": {
    "name": "ipython",
    "version": 3
   },
   "file_extension": ".py",
   "mimetype": "text/x-python",
   "name": "python",
   "nbconvert_exporter": "python",
   "pygments_lexer": "ipython3",
   "version": "3.11.11"
  }
 },
 "nbformat": 4,
 "nbformat_minor": 2
}
